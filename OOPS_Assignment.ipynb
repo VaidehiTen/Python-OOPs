{
  "nbformat": 4,
  "nbformat_minor": 0,
  "metadata": {
    "colab": {
      "provenance": []
    },
    "kernelspec": {
      "name": "python3",
      "display_name": "Python 3"
    },
    "language_info": {
      "name": "python"
    }
  },
  "cells": [
    {
      "cell_type": "markdown",
      "source": [
        "#Python OOPs\n"
      ],
      "metadata": {
        "id": "DcFmAGAYQCRB"
      }
    },
    {
      "cell_type": "markdown",
      "source": [
        "1.  What is Object-Oriented Programming (OOP)?\n",
        "-   Object-oriented programming (OOP) is a computer programming model that organizes software design around data, or objects, rather than functions and logic. An object can be defined as a data field that has unique attributes and behavior.\n",
        "-   OOP focuses on the objects that developers want to manipulate rather than the logic required to manipulate them. This approach to programming is well suited for software that is large, complex and actively updated or maintained. This includes programs for manufacturing and design, as well as mobile applications.\n",
        "-   The organization of an object-oriented program also makes the method beneficial for collaborative development, where projects are divided into groups. Additional benefits of OOP include code reusability, scalability and efficiency.\n",
        "\n",
        "\n",
        "2.  What is a class in OOP?\n",
        "-   In Object-Oriented Programming (OOP), a class is a blueprint or template for creating objects. It defines a data structure that contains both data (attributes/properties) and methods (functions or procedures) that operate on the data. Classes encapsulate the attributes and behaviors that are common to all objects of that class, promoting code reuse and organization.\n",
        "\n",
        "\n",
        "3.  What is an object in OOP?\n",
        "-   An object is nothing but a self-contained component which consists of methods and properties to make a particular type of data useful. Object determines the behavior of the class. When you send a message to an object, you are asking the object to invoke or execute one of its methods. From a programming point of view, an object can be a data structure, a variable or a function. It has a memory location allocated. The object is designed as class hierarchies.\n",
        "\n",
        "\n",
        "4.  What is the difference between abstraction and encapsulation?\n",
        "-   Abstraction and encapsulation are fundamental concepts in object-oriented programming (OOP), but they serve different purposes:\n",
        "\n",
        "    Abstraction\n",
        "\n",
        "    >Definition: Abstraction is the process of simplifying complex systems by modeling classes based on the essential properties and behaviors an object should have, while hiding the unnecessary details.\n",
        "    \n",
        "    >Purpose: It allows programmers to focus on interactions at a high level without needing to understand the underlying implementation.\n",
        "    \n",
        "    >Example: In a car class, you might have methods like drive() and stop(), which abstract the complex mechanics of how the car operates.\n",
        "\n",
        "    Encapsulation\n",
        "\n",
        "    >Definition: Encapsulation is the bundling of data (attributes) and methods (functions) that operate on the data into a single unit or class. It restricts direct access to some of the object's components.\n",
        "    \n",
        "    >Purpose: It helps protect the integrity of the object's data by exposing only what is necessary through public methods, thus preventing unintended interference and misuse.\n",
        "    \n",
        "    >Example: In the same car class, you might have private attributes like fuelLevel or engineStatus, which can only be modified through public methods like refuel() or startEngine().\n",
        "\n",
        "\n",
        "5.  What are dunder methods in Python?\n",
        "-   Dunder methods, short for \"double underscore\" methods, are special methods in Python that allow you to define how objects of a class behave with built-in operations. They are also known as magic methods. These methods are surrounded by double underscores (e.g., ____ init____, ____str ____, ____add ____) and are automatically invoked in certain situations.\n",
        "\n",
        "    Here are some of the most commonly used dunder methods:\n",
        "\n",
        "    Initialization and Representation\n",
        "    >____ init ____(self, ...): The constructor method, called when an object is created.\n",
        "\n",
        "    >____ str ____(self): Defines the string representation of an object, used by print() and str().\n",
        "\n",
        "    >____ repr ____(self): Defines the official string representation of an object, used by repr() and in the interactive interpreter.\n",
        "    \n",
        "    Arithmetic Operations\n",
        "    > ____ add ____(self, other): Defines behavior for the addition operator (+).\n",
        "    \n",
        "    > ____ sub ____(self, other): Defines behavior for the subtraction operator (-).\n",
        "    \n",
        "    > ____ mul ____(self, other): Defines behavior for the multiplication operator (*).\n",
        "    \n",
        "    > ____ truediv ____(self, other): Defines behavior for the true division operator (/).\n",
        "    \n",
        "    Comparison Operations\n",
        "    > ____ eq ____(self, other): Defines behavior for equality operator (==).\n",
        "    \n",
        "    > ____ lt ____(self, other): Defines behavior for less than operator (&lt;).\n",
        "    \n",
        "    > ____ le ____(self, other): Defines behavior for less than or equal to operator (&lt;=).\n",
        "    \n",
        "    > ____ gt ____(self, other): Defines behavior for greater than operator (&gt;).\n",
        "    \n",
        "    > ____ ge ____(self, other): Defines behavior for greater than or equal to operator (&gt;=).\n",
        "    \n",
        "    Container Methods\n",
        "    > ____ len ____(self): Defines behavior for the len() function.\n",
        "    \n",
        "    > ____ getitem ____(self, key): Defines behavior for indexing (obj[key]).\n",
        "    \n",
        "    > ____ setitem ____(self, key, value): Defines behavior for setting an item (obj[key] = value).\n",
        "    \n",
        "    > ____ delitem ____(self, key): Defines behavior for deleting an item (del obj[key]).\n",
        "\n",
        "    Context Management\n",
        "    > ____ enter ____(self): Defines behavior for entering a context (used with with statements).\n",
        "    \n",
        "    > ____ exit ____(self, exc_type, exc_value, traceback): Defines behavior for exiting a context.    \n",
        "\n",
        "\n",
        "6.  Explain the concept of inheritance in OOPH?\n",
        "-   Inheritance is a mechanism in object-oriented programming where a new class is created by inheriting properties of an existing class.\n",
        "Inheritance allows for code reuse and promotes code organization.\n",
        "-   The existing class is called the superclass or parent class, while the new class is called the subclass or child class.\n",
        "-   The subclass inherits all the properties and methods of the superclass, and can also add its own unique properties and methods.\n",
        "-   For example, a subclass 'Car' can inherit properties and methods from a superclass 'Vehicle', and add its own properties like 'number of doors' and methods like 'start engine'.\n",
        "\n",
        "\n",
        "7.  What is polymorphism in OOP?\n",
        "-   Polymorphism is a fundamental concept in object-oriented programming (OOP) that allows entities such as functions or objects to take on multiple forms. Derived from the Greek words \"poly\" (many) and \"morph\" (form), polymorphism enables a single interface to represent different underlying data types or behaviors.\n",
        "\n",
        "\n",
        "8.  How is encapsulation achieved in Python?\n",
        "-   Encapsulation is a fundamental concept in object-oriented programming (OOP) that involves bundling data (attributes) and methods (functions) that operate on the data within a single unit, typically a class. It also restricts direct access to some components, which helps protect the integrity of the data and ensures proper usage.\n",
        "-  Python achieves encapsulation through the use of access modifiers, which control the visibility of class members. While Python doesn't enforce strict access control, it follows naming conventions to indicate the intended level of access:\n",
        "\n",
        "  (I)Public Members: Accessible from anywhere. By default, all members in Python are public.\n",
        "\n",
        "  (II)Protected Members: Indicated by a single underscore prefix (_). This is a convention suggesting that these members should not be accessed directly outside the class or its subclasses.\n",
        "\n",
        "  (III)Private Members: Indicated by a double underscore prefix (__). This triggers name mangling, where the interpreter changes the name of the variable to include the class name, making it harder to access from outside the class.\n",
        "\n",
        "9.  What is a constructor in Python?\n",
        "-   A constructor in Python is a special method called when an object is created. Its purpose is to assign values to the data members within the class when an object is initialized.\n",
        "-  Constructors in Python is a special class method for creating and initializing an object instance at that class. Every Python class has a constructor; it’s not required to be defined explicitly. The purpose of the constructor is to construct an object and assign a value to the object’s members.The name of the constructor method is always ____ init ____.\n",
        "\n",
        "\n",
        "10. What are class and static methods in Python?\n",
        "-   A Python class method is a method that is defined within a class and that operates on all objects being an instance of the class. This also means that you can call the method directly on the class and the class is the first parameter of the method (often called cls). Class methods are used for operations for the whole class, for changing some class variables, or for making instances of the class using different constructors.\n",
        "\n",
        "   >Key Characteristics of Python Class Method:\n",
        "\n",
        "   (i)Bound to the class: These are declared with the use of the @classmethod and normally they are allowed to work with the class variables.\n",
        "\n",
        "   (ii)First parameter cls: Depending on whether it is an instance reference (self), class methods consider the class into which they are being called as the initial parameter of the method, traditionally named cls.\n",
        "   \n",
        "   (iii)Common use cases: Creating objects, encapsulation of data for the whole factory, implementing and encapsulation of methods that require the class reference (but not objects of the class).\n",
        "\n",
        "-  A static method in Python means it is a method that belongs to the class. Static methods are class methods and do not have access to attributes on a class or instance of the class at their own instance or to other instances or class attributes. Unlike variables which are logically grouped inside the class, they work just like any normal functions.\n",
        "\n",
        "   >Key Characteristics of Python Static Method:\n",
        "\n",
        "   (i)Not bound to the class or instance: They are used and created by the @staticmethod, and these methods are not associated with the object or class-specific data.\n",
        "   \n",
        "   (ii)No special first parameter: Static methods can be distinguished from instance or class methods by the fact that they do not first require either self or cls as a required argument.\n",
        "   \n",
        "   (iii)Common use cases: Functions that are associated with the class but do not write or read any class or instance variables.\n",
        "\n",
        "\n",
        "11. What is method overloading in Python?\n",
        "-   Method Overloading is a fundamental concept in OOP that enables a class to define multiple methods with the same name but different parameters. In Python, this powerful feature allows developers to create versatile functions capable of handling various data types. It also helps perform distinct operations based on the types and number of arguments passed.\n",
        "-When a method is overloaded, Python determines which version of the method is to be executed based on the arguments provided during the function call. By using Method Overloading, programmers can create cleaner and more concise code. It is because related functionalities can be grouped under the same method name.   \n",
        "\n",
        "\n",
        "12. What is method overriding in OOP?\n",
        "-   Method Overriding is another crucial concept in OOP that empowers subclasses to provide a specific implementation for a method already defined in their superclass. In Python, this powerful feature allows developers to tailor the behaviour of a method in a subclass to suit the unique requirements of that subclass.\n",
        "-   When a method is overridden, the version defined in the subclass takes precedence over the one in the superclass. This principle of polymorphism enables objects of the subclass to be used interchangeably with objects of the superclass. A strong grasp of Python Data Structures supports this principle by helping you manage and manipulate data efficiently, thereby promoting code extensibility and flexibility.\n",
        "-   Method Overriding is particularly useful in scenarios where a subclass needs to enhance or modify the functionality inherited from its superclass while maintaining the overall structure and interface. By doing so, developers can efficiently reuse existing code and create specialised classes that build upon the foundation of more general ones.\n",
        "\n",
        "\n",
        "13. What is a property decorator in Python?\n",
        "-   In Python, the @property decorator is a built-in feature that allows you to define methods in a class that can be accessed like attributes. This approach provides a clean and Pythonic way to implement getters, setters, and deleters, enabling controlled access to instance attributes while maintaining a simple interface.\n",
        "-   The @property decorator transforms a method into a \"getter\" for a managed attribute. You can also define corresponding \"setter\" and \"deleter\" methods using the @< property_name >.setter and @ <property_name >.deleter decorators, respectively.\n",
        "-   the @property decorator in Python provides a powerful mechanism to manage attribute access within classes, promoting encapsulation and clean code practices.\n",
        "\n",
        "\n",
        "14. Why is polymorphism important in OOP?\n",
        "    \n",
        "    Why is polymorphism important in OOP :\n",
        "\n",
        "-   Polymorphism allows extensibility to the developers. With the help of polymorphism in OOPs, we can easily create a new class derived from the existing class.\n",
        "-   The code written can be used without modification. It helps to reduce the redundancy in code and also removes the need to write similar code repeatedly.\n",
        "-   Polymorphism provides method overloading and method overriding.\n",
        "-   It allows better readability and code maintenance.\n",
        "-   Programmers are able to write codes more frequently and creatively.\n",
        "-   All the major data types can be stored in a single variable with the help of polymorphism which makes the implementation easy to use and develop\n",
        "-   It allows for simple debugging.\n",
        "\n",
        "\n",
        "15. What is an abstract class in Python?\n",
        "-   In Python, an abstract class is a class that cannot be instantiated on its own and is meant to be subclassed by other classes. Abstract classes are created using the abc (Abstract Base Classes) module. Abstract classes may contain abstract methods, which are methods that are declared in the abstract class but don't have an implementation. Subclasses of the abstract class are required to provide implementations for these abstract methods.\n",
        "-   Key points about abstract classes in Python:\n",
        "\n",
        "    >Abstract classes cannot be instantiated directly.\n",
        "\n",
        "    >Abstract methods are declared using the @abstractmethod decorator in the abstract class.\n",
        "\n",
        "    >Subclasses must provide concrete implementations for all abstract methods to be considered valid.\n",
        "\n",
        "    >Abstract classes can contain both abstract and non-abstract methods.\n",
        "\n",
        "\n",
        "16. What are the advantages of OOP?\n",
        "-   advantages of OOP include the following:\n",
        "\n",
        "    >Modularity. Encapsulation enables objects to be self-contained, making troubleshooting and collaborative development easier.\n",
        "    \n",
        "    >Reusability. Code can be reused through inheritance, meaning a team does not have to write the same code multiple times.\n",
        "    \n",
        "    >Productivity. Programmers can construct new programs quickly through the use of multiple libraries and reusable code.\n",
        "    \n",
        "    >Easily upgradable and scalable. Programmers can implement system functionalities independently.\n",
        "    \n",
        "    >Interface descriptions. Descriptions of external systems are simple, due to message-passing techniques that are used for object communication.\n",
        "    \n",
        "    >Security. Using encapsulation and abstraction, complex code is hidden, software maintenance is easier and internet protocols are protected.\n",
        "    \n",
        "    >Flexibility. Polymorphism enables a single function to adapt to the class it is placed in. Different objects can also pass through the same interface.\n",
        "    \n",
        "    >Code maintenance. Parts of a system can be updated and maintained without needing to make significant adjustments.\n",
        "    \n",
        "    >Lower cost. Other benefits, such as its maintenance and reusability, reduce development costs.   \n",
        "\n",
        "\n",
        "17. What is the difference between a class variable and an instance variable?\n",
        "-   Class variables serve as shared attributes across all instances of a class, providing a centralized means for managing data common to the entire class. On the other hand, instance variables encapsulate unique characteristics for each object, maintaining individuality.\n",
        "-   Class Variables:\n",
        "    >Definition: class variables are shared among all instances of a class. They are defined within the class but outside of any methods, typically near the top of the class definition. Class variables store data that is common to all instances, making them a powerful tool for managing shared state and settings..\n",
        "    \n",
        "    >Scope: Shared by all instances (objects) of the class.\n",
        "    \n",
        "    >Access: Accessed using the class name or an instance of the class.\n",
        "    \n",
        "    >Use Case: Store data that is common to all instances of a class, like counters, or default values.\n",
        "    \n",
        "    >Lifetime: Exists as long as the class is loaded.\n",
        "\n",
        "-   Instance Variables:\n",
        "    >Definition: Instance variables are unique to each instance of a class. They are defined within methods and are prefixed with the self keyword. These variables store data that is specific to an instance, making them essential for object-oriented programming (OOP) principles like encapsulation..\n",
        "    \n",
        "    >Scope: Unique to each instance of the class.\n",
        "    \n",
        "    >Access: Accessed using self within the class and using the instance name outside the class.\n",
        "    \n",
        "    >Use Case: Store data that is specific to each instance of a class, like names, ages, etc.\n",
        "    \n",
        "    >Lifetime: Exists as long as the instance exists.\n",
        "\n",
        "\n",
        "18. What is multiple inheritance in Python?\n",
        "-   When a class is derived from more than one base class, this types of inheritance is called multiple inheritance in Python. It allows a child class to inherit all the properties and methods from multiple parent classes.\n",
        "-   In the multiple inheritance, there are two or more parent classes and one child class.\n",
        "\n",
        "\n",
        "19. Explain the purpose of ' ‘____ str ____’ and ‘____ repr ____’ ' methods in Python?\n",
        "-   These are special methods in Python classes that are invoked to return string representations of objects.\n",
        "   >____ str ____: This method is called by the ____ str ____() built-in function and the print statement to display a readable string representation of an object. It is intended to provide a human-readable output.\n",
        "\n",
        "   >____ repr ____: This method is called by the ____ repr ____() built-in function and by Python’s interactive interpreter to generate a representation of the object. It should be unambiguous and, ideally, should allow the object to be recreated using the eval() function.\n",
        "\n",
        "20. What is the significance of the ‘super()’ function in Python?\n",
        "-   In Python, super() is a built-in function that allows access to methods and properties of a parent or superclass from a child or subclass. This is useful when working with inheritance in object-oriented programming. It enables a subclass to inherit behaviour and attributes from its parent class while also providing the flexibility to override or extend that behaviour in the subclass.\n",
        "-   By using super(), you can call a method from the parent class without explicitly naming the parent class, which can make your code more flexible and easier to maintain.\n",
        "\n",
        "\n",
        "21. What is the significance of the ____ del ____ method in Python?\n",
        "-   The ____ del ____ method is a special method in Python that is called when an object is about to be destroyed. It allows you to define specific cleanup actions that should be taken when an object is garbage collected. This method can be particularly useful for releasing external resources such as file handles, network connections, or database connections that the object may hold.\n",
        "    >Purpose: The ____ del ____ method is used to define the actions that should be performed before an object is destroyed. This can include releasing external resources such as files or database connections associated with the object.\n",
        "\n",
        "    >Usage: When Python's garbage collector identifies that an object is no longer referenced by any part of the program, it schedules the ____ del ____ method of that object to be called before reclaiming its memory.\n",
        "\n",
        "\n",
        "22. What is the difference between @staticmethod and @classmethod in Python?\n",
        "-   @staticmethod:\n",
        "    >It does not receive the class instance (self) or the class itself (cls) as an implicit first argument.\n",
        "    \n",
        "    >It behaves like a regular function, but it is logically associated with the class.\n",
        "    \n",
        "    >It cannot access or modify the class or instance state.\n",
        "    \n",
        "    >It is used for utility functions that are related to the class but don't need access to its internals.    \n",
        "-   @classmethod:\n",
        "    >It receives the class (cls) as the first argument implicitly.\n",
        "    \n",
        "    >It can access and modify class-level attributes.\n",
        "    \n",
        "    >It cannot access instance-specific attributes.\n",
        "    \n",
        "    >It is often used to create alternative constructors or perform actions related to the entire class.  \n",
        "\n",
        "\n",
        "23. How does polymorphism work in Python with inheritance?\n",
        "-   In Python, polymorphism allows objects of different classes to be treated as instances of a common superclass, enabling a unified interface for different data types. This is primarily achieved through inheritance and method overriding, where subclasses provide specific implementations of methods defined in their parent classes.\n",
        "-   When a subclass inherits from a parent class, it can override methods to provide specialized behavior. This means that the same method name can behave differently depending on the object's class, allowing for flexible and extensible code design.         \n",
        "\n",
        "24. What is method chaining in Python OOP?\n",
        "-   Method Chaining is the technique of calling a method on another method and so on, of the same object. It is defined as the style of programming in which you invoke multiple methods of the same class that occurs sequentially .\n",
        "-   Method chaining is a technique where you combine individual methods in a single line of code to form a chain of actions. Each method in the chain performs a specific function, but when combined together, they create a powerful sequence of actions that can accomplish complex tasks with just one line of code.\n",
        "\n",
        "\n",
        "25. What is the purpose of the ____ call ____ method in Python?\n",
        "-   The ____ call ____ method is part of Python build-in methods also called dunder or magic methods because have two prefixes and suffix underscores in the method name. The main idea of ____ call ____ method is to write a class and invoke it like a function. We can refer to it as callable object.\n",
        "-   In Python, the ____ call ____ method provides a way to use instances of classes as if they were functions. This provides flexibility, as it allows classes to exhibit function-like behavior, while still maintaining their nature as objects of a class. The ____ call ____ method also allows instances to maintain state between calls, which can be highly useful in various programming scenarios.\n",
        "\n",
        "-   The ____ call ____ method is just one of many special methods in Python that help provide the \"magic\" behind Python's object-oriented programming. Understanding and using these methods appropriately can greatly improve the flexibility and effectiveness of your Python code\n",
        "\n"
      ],
      "metadata": {
        "id": "12xpr-O_QQuw"
      }
    },
    {
      "cell_type": "markdown",
      "source": [
        "#Practical Questions\n"
      ],
      "metadata": {
        "id": "RJ1oRWoO1mBf"
      }
    },
    {
      "cell_type": "markdown",
      "source": [
        "1.  Create a parent class Animal with a method speak() that prints a generic message. Create a child class Dog\n",
        "that overrides the speak() method to print \"Bark!\"."
      ],
      "metadata": {
        "id": "AvySdcje1pAj"
      }
    },
    {
      "cell_type": "code",
      "source": [
        "class Animal:\n",
        "    def speak(self):\n",
        "        print(\"The animal makes a sound.\")\n",
        "\n",
        "class Dog(Animal):\n",
        "    def speak(self):\n",
        "        print(\"Bark!\")"
      ],
      "metadata": {
        "id": "XmtfKnSQ2Ed1"
      },
      "execution_count": 1,
      "outputs": []
    },
    {
      "cell_type": "code",
      "source": [
        "my_dog = Dog()\n",
        "my_dog.speak()\n"
      ],
      "metadata": {
        "colab": {
          "base_uri": "https://localhost:8080/"
        },
        "id": "QvX3rTo123Ib",
        "outputId": "55616fe8-d6b2-4a8a-8511-b0da0cd64bb7"
      },
      "execution_count": 2,
      "outputs": [
        {
          "output_type": "stream",
          "name": "stdout",
          "text": [
            "Bark!\n"
          ]
        }
      ]
    },
    {
      "cell_type": "markdown",
      "source": [
        "2. Write a program to create an abstract class Shape with a method area(). Derive classes Circle and Rectangle\n",
        "from it and implement the area() method in both."
      ],
      "metadata": {
        "id": "Mn59gGhD3EqQ"
      }
    },
    {
      "cell_type": "code",
      "source": [
        "from abc import ABC, abstractmethod\n",
        "import math\n",
        "\n",
        "# Abstract base class\n",
        "class Shape(ABC):\n",
        "    @abstractmethod\n",
        "    def area(self):\n",
        "        pass\n",
        "\n",
        "# Circle class inheriting from Shape\n",
        "class Circle(Shape):\n",
        "    def __init__(self, radius):\n",
        "        self.radius = radius\n",
        "\n",
        "    def area(self):\n",
        "        return math.pi * self.radius ** 2\n",
        "\n",
        "# Rectangle class inheriting from Shape\n",
        "class Rectangle(Shape):\n",
        "    def __init__(self, width, height):\n",
        "        self.width = width\n",
        "        self.height = height\n",
        "\n",
        "    def area(self):\n",
        "        return self.width * self.height\n",
        "\n",
        "# Example usage\n",
        "if __name__ == \"__main__\":\n",
        "    circle = Circle(5)\n",
        "    rectangle = Rectangle(4, 6)\n",
        "\n",
        "    print(f\"Circle Area: {circle.area():.2f}\")\n",
        "    print(f\"Rectangle Area: {rectangle.area()}\")\n"
      ],
      "metadata": {
        "colab": {
          "base_uri": "https://localhost:8080/"
        },
        "id": "ZW0YAvnO3GCC",
        "outputId": "d0d0bb91-ef80-4758-eece-21e437292c30"
      },
      "execution_count": 3,
      "outputs": [
        {
          "output_type": "stream",
          "name": "stdout",
          "text": [
            "Circle Area: 78.54\n",
            "Rectangle Area: 24\n"
          ]
        }
      ]
    },
    {
      "cell_type": "markdown",
      "source": [
        "3.  Implement a multi-level inheritance scenario where a class Vehicle has an attribute type. Derive a class Car\n",
        "and further derive a class ElectricCar that adds a battery attribute."
      ],
      "metadata": {
        "id": "8etTr_4y4gYO"
      }
    },
    {
      "cell_type": "code",
      "source": [
        "# Base class\n",
        "class Vehicle:\n",
        "    def __init__(self, vehicle_type):\n",
        "        self.vehicle_type = vehicle_type\n",
        "\n",
        "    def describe(self):\n",
        "        print(f\"This is a {self.vehicle_type}.\")\n",
        "\n",
        "# Intermediate class\n",
        "class Car(Vehicle):\n",
        "    def __init__(self, vehicle_type, brand, model):\n",
        "        super().__init__(vehicle_type)\n",
        "        self.brand = brand\n",
        "        self.model = model\n",
        "\n",
        "    def details(self):\n",
        "        print(f\"Brand: {self.brand}, Model: {self.model}\")\n",
        "\n",
        "# Derived class\n",
        "class ElectricCar(Car):\n",
        "    def __init__(self, vehicle_type, brand, model, battery_capacity):\n",
        "        super().__init__(vehicle_type, brand, model)\n",
        "        self.battery_capacity = battery_capacity\n",
        "\n",
        "    def battery_info(self):\n",
        "        print(f\"Battery Capacity: {self.battery_capacity} kWh\")\n",
        "\n",
        "# Example usage\n",
        "if __name__ == \"__main__\":\n",
        "    my_electric_car = ElectricCar(\"Electric Car\", \"Tesla\", \"Model S\", 100)\n",
        "    my_electric_car.describe()       # Inherited from Vehicle\n",
        "    my_electric_car.details()        # Inherited from Car\n",
        "    my_electric_car.battery_info()   # Defined in ElectricCar\n"
      ],
      "metadata": {
        "colab": {
          "base_uri": "https://localhost:8080/"
        },
        "id": "iyTk3Xcj4kxE",
        "outputId": "ff428174-a4c3-46af-fd5b-4a5004b0e983"
      },
      "execution_count": 4,
      "outputs": [
        {
          "output_type": "stream",
          "name": "stdout",
          "text": [
            "This is a Electric Car.\n",
            "Brand: Tesla, Model: Model S\n",
            "Battery Capacity: 100 kWh\n"
          ]
        }
      ]
    },
    {
      "cell_type": "markdown",
      "source": [
        "4.  Demonstrate polymorphism by creating a base class Bird with a method fly(). Create two derived classes\n",
        "Sparrow and Penguin that override the fly() method.\n"
      ],
      "metadata": {
        "id": "HBsdRW3s5m7E"
      }
    },
    {
      "cell_type": "code",
      "source": [
        "class Bird:\n",
        "    def fly(self):\n",
        "        print(\"This bird can fly.\")\n",
        "\n",
        "class Sparrow(Bird):\n",
        "    def fly(self):\n",
        "        print(\"Sparrow flies high in the sky.\")\n",
        "\n",
        "class Penguin(Bird):\n",
        "    def fly(self):\n",
        "        print(\"Penguins can't fly, but they can swim.\")\n",
        "\n",
        "# Demonstrating polymorphism\n",
        "def bird_flight(bird):\n",
        "    bird.fly()\n",
        "\n",
        "# Creating instances\n",
        "sparrow = Sparrow()\n",
        "penguin = Penguin()\n",
        "\n",
        "bird_flight(sparrow)\n",
        "bird_flight(penguin)\n"
      ],
      "metadata": {
        "colab": {
          "base_uri": "https://localhost:8080/"
        },
        "id": "HbNTqQCQ6ZvW",
        "outputId": "c41d9273-4874-422d-8bec-138bb0599976"
      },
      "execution_count": 5,
      "outputs": [
        {
          "output_type": "stream",
          "name": "stdout",
          "text": [
            "Sparrow flies high in the sky.\n",
            "Penguins can't fly, but they can swim.\n"
          ]
        }
      ]
    },
    {
      "cell_type": "markdown",
      "source": [
        "5. Write a program to demonstrate encapsulation by creating a class BankAccount with private attributes\n",
        "balance and methods to deposit, withdraw, and check balance."
      ],
      "metadata": {
        "id": "M70Lubqp6o9f"
      }
    },
    {
      "cell_type": "code",
      "source": [
        "class BankAccount:\n",
        "    def __init__(self, initial_balance=0.0):\n",
        "        self.__balance = initial_balance  # Private attribute\n",
        "\n",
        "    def deposit(self, amount):\n",
        "        if amount > 0:\n",
        "            self.__balance += amount\n",
        "            print(f\"Deposited: ${amount:.2f}\")\n",
        "        else:\n",
        "            print(\"Deposit amount must be positive.\")\n",
        "\n",
        "    def withdraw(self, amount):\n",
        "        if amount <= 0:\n",
        "            print(\"Withdrawal amount must be positive.\")\n",
        "        elif amount > self.__balance:\n",
        "            print(\"Insufficient balance.\")\n",
        "        else:\n",
        "            self.__balance -= amount\n",
        "            print(f\"Withdrew: ${amount:.2f}\")\n",
        "\n",
        "    def get_balance(self):\n",
        "        return self.__balance\n",
        "\n",
        "# Example usage\n",
        "if __name__ == \"__main__\":\n",
        "    account = BankAccount(1000.0)\n",
        "    print(f\"Initial Balance: ${account.get_balance():.2f}\")\n",
        "    account.deposit(500)\n",
        "    account.withdraw(200)\n",
        "    print(f\"Final Balance: ${account.get_balance():.2f}\")\n"
      ],
      "metadata": {
        "colab": {
          "base_uri": "https://localhost:8080/"
        },
        "id": "EaSJWXZ96qiM",
        "outputId": "e40edfdc-cedd-47d7-e946-af2bc654241f"
      },
      "execution_count": 6,
      "outputs": [
        {
          "output_type": "stream",
          "name": "stdout",
          "text": [
            "Initial Balance: $1000.00\n",
            "Deposited: $500.00\n",
            "Withdrew: $200.00\n",
            "Final Balance: $1300.00\n"
          ]
        }
      ]
    },
    {
      "cell_type": "markdown",
      "source": [
        "6. Demonstrate runtime polymorphism using a method play() in a base class Instrument. Derive classes Guitar\n",
        "and Piano that implement their own version of play()."
      ],
      "metadata": {
        "id": "TKccorrt7Zxo"
      }
    },
    {
      "cell_type": "code",
      "source": [
        "class Instrument:\n",
        "    def play(self):\n",
        "        print(\"Playing an instrument.\")\n",
        "\n",
        "class Guitar(Instrument):\n",
        "    def play(self):\n",
        "        print(\"Strumming the guitar.\")\n",
        "\n",
        "class Piano(Instrument):\n",
        "    def play(self):\n",
        "        print(\"Playing the piano.\")\n",
        "\n",
        "# Demonstrating polymorphism\n",
        "def perform_play(instrument):\n",
        "    instrument.play()\n",
        "\n",
        "# Creating instances\n",
        "guitar = Guitar()\n",
        "piano = Piano()\n",
        "\n",
        "perform_play(guitar)\n",
        "perform_play(piano)\n"
      ],
      "metadata": {
        "colab": {
          "base_uri": "https://localhost:8080/"
        },
        "id": "CYxcDHV57bJ5",
        "outputId": "1fb0ead9-e915-40e4-c588-ad058b93df09"
      },
      "execution_count": 7,
      "outputs": [
        {
          "output_type": "stream",
          "name": "stdout",
          "text": [
            "Strumming the guitar.\n",
            "Playing the piano.\n"
          ]
        }
      ]
    },
    {
      "cell_type": "markdown",
      "source": [
        "7.  Create a class MathOperations with a class method add_numbers() to add two numbers and a static\n",
        "method subtract_numbers() to subtract two numbers."
      ],
      "metadata": {
        "id": "g5abkL2-70Yu"
      }
    },
    {
      "cell_type": "code",
      "source": [
        "class MathOperations:\n",
        "    @classmethod\n",
        "    def add_numbers(cls, a, b):\n",
        "        \"\"\"Adds two numbers and returns the result.\"\"\"\n",
        "        return a + b\n",
        "\n",
        "    @staticmethod\n",
        "    def subtract_numbers(a, b):\n",
        "        \"\"\"Subtracts the second number from the first and returns the result.\"\"\"\n",
        "        return a - b\n",
        "\n",
        "# Example usage\n",
        "if __name__ == \"__main__\":\n",
        "    # Using the class method\n",
        "    sum_result = MathOperations.add_numbers(10, 5)\n",
        "    print(f\"Sum: {sum_result}\")\n",
        "\n",
        "    # Using the static method\n",
        "    difference_result = MathOperations.subtract_numbers(10, 5)\n",
        "    print(f\"Difference: {difference_result}\")\n"
      ],
      "metadata": {
        "colab": {
          "base_uri": "https://localhost:8080/"
        },
        "id": "mmjhrNel752l",
        "outputId": "e43dd802-6db5-4164-8ce2-0a49b003a6a3"
      },
      "execution_count": 8,
      "outputs": [
        {
          "output_type": "stream",
          "name": "stdout",
          "text": [
            "Sum: 15\n",
            "Difference: 5\n"
          ]
        }
      ]
    },
    {
      "cell_type": "markdown",
      "source": [
        "8.  Implement a class Person with a class method to count the total number of persons created."
      ],
      "metadata": {
        "id": "t_lAGOjY89sp"
      }
    },
    {
      "cell_type": "code",
      "source": [
        "class Person:\n",
        "    _count = 0  # Private class variable to track the number of instances\n",
        "\n",
        "    def __init__(self, name):\n",
        "        self.name = name\n",
        "        Person._count += 1  # Increment count when a new instance is created\n",
        "\n",
        "    @classmethod\n",
        "    def get_count(cls):\n",
        "        \"\"\"Returns the total number of Person instances created.\"\"\"\n",
        "        return cls._count\n",
        "\n",
        "# Example usage\n",
        "if __name__ == \"__main__\":\n",
        "    p1 = Person(\"Kavya\")\n",
        "    p2 = Person(\"Neha\")\n",
        "    p3 = Person(\"Pooja\")\n",
        "\n",
        "    print(f\"Total persons created: {Person.get_count()}\")\n"
      ],
      "metadata": {
        "colab": {
          "base_uri": "https://localhost:8080/"
        },
        "id": "JKdSsXTs9HmQ",
        "outputId": "3eec223c-9132-4384-931c-8d7ce9c773bc"
      },
      "execution_count": 9,
      "outputs": [
        {
          "output_type": "stream",
          "name": "stdout",
          "text": [
            "Total persons created: 3\n"
          ]
        }
      ]
    },
    {
      "cell_type": "markdown",
      "source": [
        "9. Write a class Fraction with attributes numerator and denominator. Override the str method to display the\n",
        "fraction as \"numerator/denominator\"."
      ],
      "metadata": {
        "id": "Cir2q5aG91qp"
      }
    },
    {
      "cell_type": "code",
      "source": [
        "class Fraction:\n",
        "    def __init__(self, numerator, denominator):\n",
        "        if denominator == 0:\n",
        "            raise ValueError(\"Denominator cannot be zero.\")\n",
        "        self.numerator = numerator\n",
        "        self.denominator = denominator\n",
        "\n",
        "    def __str__(self):\n",
        "        return f\"{self.numerator}/{self.denominator}\"\n",
        "\n",
        "# Example usage\n",
        "if __name__ == \"__main__\":\n",
        "    f1 = Fraction(3, 4)\n",
        "    print(f1)\n",
        "\n",
        "    f2 = Fraction(5, 1)\n",
        "    print(f2)\n"
      ],
      "metadata": {
        "colab": {
          "base_uri": "https://localhost:8080/"
        },
        "id": "r1LHfhPS96Eu",
        "outputId": "eb5d5207-72dd-4fbf-8971-9c8bcc289b3a"
      },
      "execution_count": 10,
      "outputs": [
        {
          "output_type": "stream",
          "name": "stdout",
          "text": [
            "3/4\n",
            "5/1\n"
          ]
        }
      ]
    },
    {
      "cell_type": "markdown",
      "source": [
        "10. Demonstrate operator overloading by creating a class Vector and overriding the add method to add two\n",
        "vectors."
      ],
      "metadata": {
        "id": "rDEzxK7b-PkW"
      }
    },
    {
      "cell_type": "code",
      "source": [
        "class Vector:\n",
        "    def __init__(self, x, y):\n",
        "        self.x = x\n",
        "        self.y = y\n",
        "\n",
        "    def __add__(self, other):\n",
        "        return Vector(self.x + other.x, self.y + other.y)\n",
        "\n",
        "    def __str__(self):\n",
        "        return f\"({self.x}, {self.y})\"\n",
        "\n",
        "# Example usage\n",
        "if __name__ == \"__main__\":\n",
        "    v1 = Vector(2, 3)\n",
        "    v2 = Vector(4, 5)\n",
        "    result = v1 + v2\n",
        "    print(f\"Resultant Vector: {result}\")\n"
      ],
      "metadata": {
        "colab": {
          "base_uri": "https://localhost:8080/"
        },
        "id": "e1_WLmDp-Wwx",
        "outputId": "a4026d0b-3acc-4938-a71b-41511f4bcea2"
      },
      "execution_count": 11,
      "outputs": [
        {
          "output_type": "stream",
          "name": "stdout",
          "text": [
            "Resultant Vector: (6, 8)\n"
          ]
        }
      ]
    },
    {
      "cell_type": "markdown",
      "source": [
        "11. Create a class Person with attributes name and age. Add a method greet() that prints \"Hello, my name is\n",
        "{name} and I am {age} years old.\""
      ],
      "metadata": {
        "id": "zwBMjGDA-0tU"
      }
    },
    {
      "cell_type": "code",
      "source": [
        "class Person:\n",
        "    def __init__(self, name, age):\n",
        "        self.name = name\n",
        "        self.age = age\n",
        "\n",
        "    def greet(self):\n",
        "        print(f\"Hello, my name is {self.name} and I am {self.age} years old.\")\n",
        "\n",
        "# Example usage\n",
        "if __name__ == \"__main__\":\n",
        "    person1 = Person(\"Kavya\", 27)\n",
        "    person2 = Person(\"Pooja\", 19)\n",
        "\n",
        "    person1.greet()\n",
        "    person2.greet()\n"
      ],
      "metadata": {
        "colab": {
          "base_uri": "https://localhost:8080/"
        },
        "id": "5Mdmveys-7DY",
        "outputId": "212b3d0a-0b6d-49e2-c8c4-e4081b8e0b82"
      },
      "execution_count": 12,
      "outputs": [
        {
          "output_type": "stream",
          "name": "stdout",
          "text": [
            "Hello, my name is Kavya and I am 27 years old.\n",
            "Hello, my name is Pooja and I am 19 years old.\n"
          ]
        }
      ]
    },
    {
      "cell_type": "markdown",
      "source": [
        "12.  Implement a class Student with attributes name and grades. Create a method average_grade() to compute\n",
        "the average of the grades."
      ],
      "metadata": {
        "id": "EhzOqp6U_cmz"
      }
    },
    {
      "cell_type": "code",
      "source": [
        "class Student:\n",
        "    def __init__(self, name, grades):\n",
        "        self.name = name\n",
        "        self.grades = grades\n",
        "\n",
        "    def average_grade(self):\n",
        "        return sum(self.grades) / len(self.grades) if self.grades else 0\n",
        "\n",
        "# Example usage\n",
        "if __name__ == \"__main__\":\n",
        "    student1 = Student(\"Pooja\", [85, 90, 78, 92, 88])\n",
        "    student2 = Student(\"Neha\", [70, 75, 80, 65, 60])\n",
        "\n",
        "    print(f\"{student1.name}'s Average Grade: {student1.average_grade():.2f}\")\n",
        "    print(f\"{student2.name}'s Average Grade: {student2.average_grade():.2f}\")\n"
      ],
      "metadata": {
        "colab": {
          "base_uri": "https://localhost:8080/"
        },
        "id": "MIoWVd4i_iod",
        "outputId": "8a261b19-e9f6-4093-f5fb-0958fd736d7e"
      },
      "execution_count": 13,
      "outputs": [
        {
          "output_type": "stream",
          "name": "stdout",
          "text": [
            "Pooja's Average Grade: 86.60\n",
            "Neha's Average Grade: 70.00\n"
          ]
        }
      ]
    },
    {
      "cell_type": "markdown",
      "source": [
        "13.  Create a class Rectangle with methods set_dimensions() to set the dimensions and area() to calculate the\n",
        "area."
      ],
      "metadata": {
        "id": "cAxeeFvg_8Q7"
      }
    },
    {
      "cell_type": "code",
      "source": [
        "class Rectangle:\n",
        "    def __init__(self):\n",
        "        self.length = 0\n",
        "        self.width = 0\n",
        "\n",
        "    def set_dimensions(self, length, width):\n",
        "        \"\"\"Sets the dimensions of the rectangle.\"\"\"\n",
        "        self.length = length\n",
        "        self.width = width\n",
        "\n",
        "    def area(self):\n",
        "        \"\"\"Calculates and returns the area of the rectangle.\"\"\"\n",
        "        return self.length * self.width\n",
        "\n",
        "# Example usage\n",
        "if __name__ == \"__main__\":\n",
        "    rect = Rectangle()\n",
        "    rect.set_dimensions(5, 3)\n",
        "    print(f\"Area of rectangle: {rect.area()} square units\")\n"
      ],
      "metadata": {
        "colab": {
          "base_uri": "https://localhost:8080/"
        },
        "id": "CqXSgpRCAEqg",
        "outputId": "f647c7c3-3ae5-4fa1-8dc3-70c3ccdfcbf8"
      },
      "execution_count": 14,
      "outputs": [
        {
          "output_type": "stream",
          "name": "stdout",
          "text": [
            "Area of rectangle: 15 square units\n"
          ]
        }
      ]
    },
    {
      "cell_type": "markdown",
      "source": [
        "14. Create a class Employee with a method calculate_salary() that computes the salary based on hours worked\n",
        "and hourly rate. Create a derived class Manager that adds a bonus to the salary."
      ],
      "metadata": {
        "id": "u0cURsFbAe2F"
      }
    },
    {
      "cell_type": "code",
      "source": [
        "class Employee:\n",
        "    def __init__(self, name, hours_worked, hourly_rate):\n",
        "        self.name = name\n",
        "        self.hours_worked = hours_worked\n",
        "        self.hourly_rate = hourly_rate\n",
        "\n",
        "    def calculate_salary(self):\n",
        "        \"\"\"Calculates the salary based on hours worked and hourly rate.\"\"\"\n",
        "        return self.hours_worked * self.hourly_rate\n",
        "\n",
        "class Manager(Employee):\n",
        "    def __init__(self, name, hours_worked, hourly_rate, bonus):\n",
        "        super().__init__(name, hours_worked, hourly_rate)\n",
        "        self.bonus = bonus\n",
        "\n",
        "    def calculate_salary(self):\n",
        "        \"\"\"Calculates the salary including bonus.\"\"\"\n",
        "        base_salary = super().calculate_salary()\n",
        "        return base_salary + self.bonus\n",
        "\n",
        "# Example usage\n",
        "if __name__ == \"__main__\":\n",
        "    emp = Employee(\"Neha\", 50, 20)\n",
        "    mgr = Manager(\"Tina\", 60, 10, 500)\n",
        "\n",
        "    print(f\"{emp.name}'s Salary: ${emp.calculate_salary():,.2f}\")\n",
        "    print(f\"{mgr.name}'s Salary: ${mgr.calculate_salary():,.2f}\")\n"
      ],
      "metadata": {
        "colab": {
          "base_uri": "https://localhost:8080/"
        },
        "id": "isg8QjMfAjA1",
        "outputId": "289c7312-3948-4a11-8966-f98b74f2995c"
      },
      "execution_count": 16,
      "outputs": [
        {
          "output_type": "stream",
          "name": "stdout",
          "text": [
            "Neha's Salary: $1,000.00\n",
            "Tina's Salary: $1,100.00\n"
          ]
        }
      ]
    },
    {
      "cell_type": "markdown",
      "source": [
        "15.  Create a class Product with attributes name, price, and quantity. Implement a method total_price() that\n",
        "calculates the total price of the product."
      ],
      "metadata": {
        "id": "fkNE5UioCNcQ"
      }
    },
    {
      "cell_type": "code",
      "source": [
        "class Product:\n",
        "    def __init__(self, name, price, quantity):\n",
        "        self.name = name\n",
        "        self.price = price\n",
        "        self.quantity = quantity\n",
        "\n",
        "    def total_price(self):\n",
        "        \"\"\"Calculate total price based on price and quantity.\"\"\"\n",
        "        return self.price * self.quantity\n",
        "\n",
        "# Example usage\n",
        "if __name__ == \"__main__\":\n",
        "    product = Product(\"Refrigerator\", 55000, 2)\n",
        "    print(f\"Total price for {product.name}: ${product.total_price():,.2f}\")\n"
      ],
      "metadata": {
        "colab": {
          "base_uri": "https://localhost:8080/"
        },
        "id": "BvIKE25-CSfi",
        "outputId": "c1d0ec34-9ba5-444f-e497-e1d0daf6b85e"
      },
      "execution_count": 19,
      "outputs": [
        {
          "output_type": "stream",
          "name": "stdout",
          "text": [
            "Total price for Refrigerator: $110,000.00\n"
          ]
        }
      ]
    },
    {
      "cell_type": "markdown",
      "source": [
        "16. Create a class Animal with an abstract method sound(). Create two derived classes Cow and Sheep that\n",
        "implement the sound() method."
      ],
      "metadata": {
        "id": "r6Ql7DFzC3lo"
      }
    },
    {
      "cell_type": "code",
      "source": [
        "from abc import ABC, abstractmethod\n",
        "\n",
        "class Animal(ABC):\n",
        "    @abstractmethod\n",
        "    def sound(self):\n",
        "        pass\n",
        "\n",
        "class Cow(Animal):\n",
        "    def sound(self):\n",
        "        return \"Moo\"\n",
        "\n",
        "class Sheep(Animal):\n",
        "    def sound(self):\n",
        "        return \"Baa\"\n",
        "\n",
        "# Example usage\n",
        "if __name__ == \"__main__\":\n",
        "    animals = [Cow(), Sheep()]\n",
        "    for animal in animals:\n",
        "        print(f\"{animal.__class__.__name__} says: {animal.sound()}\")\n"
      ],
      "metadata": {
        "colab": {
          "base_uri": "https://localhost:8080/"
        },
        "id": "SxqLkh3WC8UF",
        "outputId": "ec0fd07b-5b98-4603-cd86-43cc4f6d295d"
      },
      "execution_count": 20,
      "outputs": [
        {
          "output_type": "stream",
          "name": "stdout",
          "text": [
            "Cow says: Moo\n",
            "Sheep says: Baa\n"
          ]
        }
      ]
    },
    {
      "cell_type": "markdown",
      "source": [
        "17.  Create a class Book with attributes title, author, and year_published. Add a method get_book_info() that\n",
        "returns a formatted string with the book's details."
      ],
      "metadata": {
        "id": "-MsYuML3DQqq"
      }
    },
    {
      "cell_type": "code",
      "source": [
        "class Book:\n",
        "    def __init__(self, title, author, year_published):\n",
        "        self.title = title\n",
        "        self.author = author\n",
        "        self.year_published = year_published\n",
        "\n",
        "    def get_book_info(self):\n",
        "        return f\"'{self.title}' by {self.author}, published in {self.year_published}\"\n",
        "\n",
        "# Example usage\n",
        "if __name__ == \"__main__\":\n",
        "    book = Book(\"Blue Sisters\", \"Coco Mellors\", 2024)\n",
        "    print(book.get_book_info())\n"
      ],
      "metadata": {
        "colab": {
          "base_uri": "https://localhost:8080/"
        },
        "id": "IRNar-YMDZYe",
        "outputId": "1fc82899-0038-4172-ef1b-a0c5d4b31f2a"
      },
      "execution_count": 21,
      "outputs": [
        {
          "output_type": "stream",
          "name": "stdout",
          "text": [
            "'Blue Sisters' by Coco Mellors, published in 2024\n"
          ]
        }
      ]
    },
    {
      "cell_type": "markdown",
      "source": [
        "18. Create a class House with attributes address and price. Create a derived class Mansion that adds an\n",
        "attribute number_of_rooms."
      ],
      "metadata": {
        "id": "IVFCedIeEE8N"
      }
    },
    {
      "cell_type": "code",
      "source": [
        "class House:\n",
        "    def __init__(self, address, price):\n",
        "        self.address = address\n",
        "        self.price = price\n",
        "\n",
        "class Mansion(House):\n",
        "    def __init__(self, address, price, number_of_rooms):\n",
        "        super().__init__(address, price)\n",
        "        self.number_of_rooms = number_of_rooms\n",
        "\n",
        "# Example usage\n",
        "if __name__ == \"__main__\":\n",
        "    house = House(\"789 Pine Road\", 300000)\n",
        "    mansion = Mansion(\"1010 Elm Boulevard\", 3500000, 15)\n",
        "\n",
        "    print(f\"House located at {house.address} costs ${house.price}\")\n",
        "    print(f\"Mansion located at {mansion.address} costs ${mansion.price} and has {mansion.number_of_rooms} rooms\")\n"
      ],
      "metadata": {
        "colab": {
          "base_uri": "https://localhost:8080/"
        },
        "id": "GrBH5DfXELa0",
        "outputId": "9af348be-f707-46d0-e3b6-b0c4d081dd8e"
      },
      "execution_count": 22,
      "outputs": [
        {
          "output_type": "stream",
          "name": "stdout",
          "text": [
            "House located at 789 Pine Road costs $300000\n",
            "Mansion located at 1010 Elm Boulevard costs $3500000 and has 15 rooms\n"
          ]
        }
      ]
    }
  ]
}